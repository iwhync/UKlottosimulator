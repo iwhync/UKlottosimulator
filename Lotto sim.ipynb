{
 "cells": [
  {
   "cell_type": "code",
   "execution_count": 19,
   "metadata": {},
   "outputs": [
    {
     "name": "stdout",
     "output_type": "stream",
     "text": [
      "Realistic Lottery Simulator!\n",
      "You will be assigned 6 random numbers between 1 - 59.\n",
      "These will remain static.\n",
      "Numbers will then be drawn over and over until both your numbers, and the drawn numbers are an exact match\n",
      "You will then be informed of how many attempts this had taken, and the accumulative cost\n",
      "Expect this to take a while. Probably like, 10 minutes? Unless you're very lucky!!\n",
      "Press enter to begin.\n",
      "\n",
      "\n",
      "Running simulation. Please wait.\n",
      "\n",
      "\n",
      "Winning lotto balls are:  [26, 28, 29, 34, 40, 42] \n",
      "And the bonus ball is:  [4]\n"
     ]
    }
   ],
   "source": [
    "import random\n",
    "import sys\n",
    "sys.setrecursionlimit(1500000)\n",
    "\n",
    "print(\"Realistic Lottery Simulator!\")\n",
    "print(\"You will be assigned 6 random numbers between 1 - 59.\")\n",
    "print(\"These will remain static.\")\n",
    "print(\"Numbers will then be drawn over and over until both your numbers, and the drawn numbers are an exact match\")\n",
    "print(\"You will then be informed of how many attempts this had taken, and the accumulative cost\")\n",
    "print(\"Expect this to take a while. Probably like, 10 minutes? Unless you're very lucky!!\")\n",
    "input(\"Press enter to begin.\")\n",
    "\n",
    "print(\"\\n\")\n",
    "print(\"Running simulation. Please wait.\")\n",
    "print(\"\\n\")\n",
    "\n",
    "winner = []\n",
    "lottorand = []\n",
    "bonus = []\n",
    "yourlottonumbers\n",
    "\n",
    "for x in range (6):\n",
    "    number = random.randint(1,59)\n",
    "    while number in winner:\n",
    "        number = random.randint(1,59)\n",
    "    \n",
    "    winner.append(number)\n",
    "    winner.sort()\n",
    "    \n",
    "for y in range (1):\n",
    "    bonusball = random.randint(1,10)\n",
    "    while num in bonus:\n",
    "        bonusball = random.randint(1,10)\n",
    "\n",
    "    bonus.append(bonusball)\n",
    "    \n",
    "print(\"Please pick your lotto numbers: \")\n",
    "input(\"\")\n",
    "    \n",
    "print(\"Winning lotto balls are: \", winner, \"\\nAnd the bonus ball is: \", bonus)    \n",
    "\n"
   ]
  },
  {
   "cell_type": "code",
   "execution_count": null,
   "metadata": {},
   "outputs": [],
   "source": []
  }
 ],
 "metadata": {
  "kernelspec": {
   "display_name": "Python 3",
   "language": "python",
   "name": "python3"
  },
  "language_info": {
   "codemirror_mode": {
    "name": "ipython",
    "version": 3
   },
   "file_extension": ".py",
   "mimetype": "text/x-python",
   "name": "python",
   "nbconvert_exporter": "python",
   "pygments_lexer": "ipython3",
   "version": "3.8.3"
  }
 },
 "nbformat": 4,
 "nbformat_minor": 4
}
